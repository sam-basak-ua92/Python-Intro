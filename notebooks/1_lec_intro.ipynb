{
 "cells": [
  {
   "cell_type": "markdown",
   "metadata": {},
   "source": [
    "# Intro to Python\n",
    "\n",
    "In this session we will go over the basics of programming in Python. We will look at:\n",
    "- Variables\n",
    "- Primative data types\n",
    "- If/Else Statements\n",
    "\n",
    "Before we start we need to get signed up with an account on GitHub so we can start using GitHub Codespaces."
   ]
  },
  {
   "cell_type": "markdown",
   "metadata": {},
   "source": [
    "### What is Python\n",
    "\n",
    "Python is a high-level, general-purpose programming language known for its clear syntax and readability. It is widely used in many fields, including web development, automation, artificial intelligence, and data analysis. Python is popular in data analytics because it has powerful libraries that help you collect, clean, analyse, and visualise data.\n",
    "\n",
    "Key reasons Python is great for data analytics:\n",
    "- Easy to read and write, making it ideal for beginners.\n",
    "- Powerful libraries like pandas, NumPy, and matplotlib for working with data.\n",
    "- Flexible for automation, reporting, and data visualisation tasks.\n",
    "- Supported by a huge community and open-source tools.\n"
   ]
  },
  {
   "cell_type": "markdown",
   "metadata": {},
   "source": [
    "## Let's make our first program!"
   ]
  },
  {
   "cell_type": "code",
   "execution_count": 3,
   "metadata": {},
   "outputs": [
    {
     "name": "stdout",
     "output_type": "stream",
     "text": [
      "Hello, World!\n"
     ]
    }
   ],
   "source": [
    "# --- 1. Hello, World ---\n",
    "# The most basic command to print text to the screen.\n",
    "print(\"Hello, World!\")"
   ]
  },
  {
   "cell_type": "markdown",
   "metadata": {},
   "source": [
    "## Printing in Python\n",
    "\n",
    "What does print() do?\n",
    "\n",
    "Think of print() like a receipt printer at a shop. It shows you what’s happening, but it doesn’t change anything in the shop’s inventory system. It’s just a display. Similarly, print() in Python shows the value of a variable or result, but it doesn’t save, store, or alter your data — it’s only there to help you see what’s going on."
   ]
  },
  {
   "cell_type": "markdown",
   "metadata": {},
   "source": [
    "## Variables in Python\n",
    "Variables are like labelled boxes in your memory — they store values you might need later. When you create a variable, you assign it a value which Python stores for later use. This is different from just printing something, which shows it on screen but doesn’t keep it"
   ]
  },
  {
   "cell_type": "code",
   "execution_count": 5,
   "metadata": {},
   "outputs": [],
   "source": [
    "# --- 2. Variables and Data Types ---\n",
    "# Variables store data\n",
    "name = \"Alice\"\n",
    "age = 30\n",
    "height = 1.65\n",
    "is_student = True"
   ]
  },
  {
   "cell_type": "markdown",
   "metadata": {},
   "source": [
    "Even though variables are different from printing, we can actually print variables as well"
   ]
  },
  {
   "cell_type": "code",
   "execution_count": 6,
   "metadata": {},
   "outputs": [
    {
     "name": "stdout",
     "output_type": "stream",
     "text": [
      "Alice\n",
      "30\n",
      "1.65\n",
      "True\n"
     ]
    }
   ],
   "source": [
    "# Print out the variables\n",
    "print(name)\n",
    "print(age)\n",
    "print(height)\n",
    "print(is_student)"
   ]
  },
  {
   "cell_type": "markdown",
   "metadata": {},
   "source": [
    "## Python Data Types Explained\n",
    "Python has two broad categories of data types:\n",
    "1. Primitive (basic) data types\n",
    "2. Collection (container) data types\n",
    "\n",
    "Primitive types:\n",
    "- int: integers (e.g., 1, 42, -5)\n",
    "- float: decimal numbers (e.g., 3.14, -0.001)\n",
    "- bool: boolean values (True or False)\n",
    "- str: strings or text (e.g., \"hello\")\n",
    "\n",
    "Collection types:\n",
    "- list: an ordered, mutable (changeable) sequence (e.g., [1, 2, 3])\n",
    "- tuple: an ordered, immutable sequence (e.g., (1, 2, 3))\n",
    "- dict: a collection of key-value pairs (e.g., {\"name\": \"Alice\"})\n",
    "- set: an unordered collection of unique values (e.g., {1, 2, 3})"
   ]
  },
  {
   "cell_type": "code",
   "execution_count": 7,
   "metadata": {},
   "outputs": [
    {
     "name": "stdout",
     "output_type": "stream",
     "text": [
      "Name: Alice (type: <class 'str'>)\n",
      "Age: 30 (type: <class 'int'>)\n",
      "Height: 1.65 (type: <class 'float'>)\n",
      "Is student: True (type: <class 'bool'>)\n"
     ]
    }
   ],
   "source": [
    "# Print out the variables with type info\n",
    "print(f\"Name: {name} (type: {type(name)})\")\n",
    "print(f\"Age: {age} (type: {type(age)})\")\n",
    "print(f\"Height: {height} (type: {type(height)})\")\n",
    "print(f\"Is student: {is_student} (type: {type(is_student)})\")\n"
   ]
  },
  {
   "cell_type": "markdown",
   "metadata": {},
   "source": [
    "## What are if, elif, and else statements?\n",
    "In Python, these statements allow your program to make decisions. They let your code choose between different paths based on whether certain conditions are True or False.\n",
    "\n",
    "### Syntax and Structure\n",
    "``` python\n",
    "if condition:\n",
    "    # code block runs if condition is True\n",
    "elif another_condition:\n",
    "    # code block runs if the above 'if' was False, but this is True\n",
    "else:\n",
    "    # code block runs if all above conditions are False\n",
    "```\n",
    "- You always start with if\n",
    "- You can include zero or more elif (else-if) parts\n",
    "- else is optional, and it acts as a catch-all if none of the previous conditions were True\n",
    "\n",
    "### How It Works\n",
    "When Python reaches an if statement:\n",
    "1. It checks the condition after the if\n",
    "2. If the condition is True, it runs the indented code block directly under it and skips the rest\n",
    "3. If it's False, Python moves to the next elif (if present), and repeats the process\n",
    "4. If all conditions are False, it runs the else block (if present)\n",
    "\n",
    "### Why Use Them?\n",
    "You use if statements when:\n",
    "- You want your code to react differently depending on conditions\n",
    "- You're handling user input, data values, or program state that can vary\n",
    "\n",
    "### Things to remember\n",
    "- Always indent the code under if, elif, and else. Python uses indentation (usually 4 spaces) to show what code belongs in each block\n",
    "- You don't need to use elif or else if you just want to check one thing\n",
    "- You can have multiple elifs, but only one if and one else"
   ]
  },
  {
   "cell_type": "code",
   "execution_count": 9,
   "metadata": {},
   "outputs": [
    {
     "name": "stdout",
     "output_type": "stream",
     "text": [
      "Grade: C\n"
     ]
    }
   ],
   "source": [
    "# --- 3. If/Else Statements ---\n",
    "# Conditional logic to control code flow\n",
    "score = 75\n",
    "\n",
    "if score >= 90:\n",
    "    print(\"Grade: A\")\n",
    "elif score >= 80:\n",
    "    print(\"Grade: B\")\n",
    "elif score >= 70:\n",
    "    print(\"Grade: C\")\n",
    "else:\n",
    "    print(\"Grade: Needs improvement\")"
   ]
  },
  {
   "cell_type": "markdown",
   "metadata": {},
   "source": [
    "## Lists in Python\n",
    "A list is a way to store multiple values in a single variable. It’s like a row of boxes, where each box holds one item. Lists are ordered, changeable (mutable), and allow duplicate values.\n",
    "\n",
    "### Why Use Lists?\n",
    "- To keep related data grouped together\n",
    "- To access or update values by their position\n",
    "- To loop over multiple items efficiently\n",
    "\n",
    "| Feature    | Description |\n",
    "| -------- | ------- |\n",
    "| Ordered  | Items have a position (index), starting at 0    |\n",
    "| Mutable | You can change, add, or remove items     |\n",
    "| Indexable    | You can get or set items by their index number    |\n",
    "| Dynamic size    | You can add or remove items anytime — they grow and shrink    |"
   ]
  },
  {
   "cell_type": "code",
   "execution_count": 5,
   "metadata": {},
   "outputs": [],
   "source": [
    "# --- 4. Lists and Loops ---\n",
    "# Lists store multiple items in one variable\n",
    "fruits = [\"apple\", \"banana\", \"cherry\"]"
   ]
  },
  {
   "cell_type": "markdown",
   "metadata": {},
   "source": [
    "### Indexing and Accessing Items\n",
    "Lists in Python are ordered, which means each item has a position, called an index. You can use this index to access or change a specific item.\n",
    "- Indexes start at 0 (the first item is at position 0)\n",
    "- You can use negative indexes to count from the end (e.g., -1 is the last item)"
   ]
  },
  {
   "cell_type": "code",
   "execution_count": 3,
   "metadata": {},
   "outputs": [
    {
     "name": "stdout",
     "output_type": "stream",
     "text": [
      "apple\n",
      "cherry\n"
     ]
    }
   ],
   "source": [
    "print(fruits[0])\n",
    "print(fruits[-1])"
   ]
  },
  {
   "cell_type": "markdown",
   "metadata": {},
   "source": [
    "### Changing Items\n",
    "Lists are mutable, which means you can change the value of an item at a specific position by using its index. This is useful if you want to update or correct data without creating a new list.\n",
    "- You use square brackets [] to specify the index of the item you want to change\n",
    "- Index numbers start at 0 (first item), so list[1] refers to the second item"
   ]
  },
  {
   "cell_type": "code",
   "execution_count": 6,
   "metadata": {},
   "outputs": [
    {
     "name": "stdout",
     "output_type": "stream",
     "text": [
      "['apple', 'banana', 'cherry']\n",
      "['lychee', 'banana', 'cherry']\n"
     ]
    }
   ],
   "source": [
    "print(fruits)\n",
    "fruits[0] = 'lychee'\n",
    "print(fruits)"
   ]
  },
  {
   "cell_type": "markdown",
   "metadata": {},
   "source": [
    "### Adding and Removing Items\n",
    "Python lists are dynamic — you can add or remove items at any time.\n",
    "\n",
    "Adding Items\n",
    "- Use .append() to add an item to the end of a list\n",
    "- You can also use .insert(index, item) to place an item at a specific position\n",
    "\n",
    "Removing Items\n",
    "- .remove(item) deletes the first match of that item.\n",
    "- .pop(index) removes the item at the given index (default is last)\n"
   ]
  },
  {
   "cell_type": "code",
   "execution_count": 7,
   "metadata": {},
   "outputs": [
    {
     "name": "stdout",
     "output_type": "stream",
     "text": [
      "['lychee', 'banana', 'cherry']\n",
      "['lychee', 'banana', 'cherry', 'apple']\n",
      "['banana', 'cherry', 'apple']\n"
     ]
    }
   ],
   "source": [
    "print(fruits)\n",
    "fruits.append('apple')\n",
    "print(fruits)\n",
    "fruits.remove('lychee')\n",
    "print(fruits)"
   ]
  },
  {
   "cell_type": "markdown",
   "metadata": {},
   "source": [
    "### Looping Through a List\n",
    "Loops are used to go through each item in a list and do something with it. This is especially useful for repetitive tasks like printing, filtering, or calculating values.\n",
    "\n",
    "Basic Structure\n",
    "``` python\n",
    "for item in list_name:\n",
    "    # Do something with item\n",
    "```\n",
    "\n",
    "- for starts the loop\n",
    "- item is a variable name that temporarily holds each list value\n",
    "- list_name is the list you're looping through\n",
    "- The code indented below the loop runs once for each item\n",
    "\n",
    "``` python\n",
    "numbers = [1, 2, 3]\n",
    "for num in numbers:\n",
    "    print(num * 10)\n",
    "```\n",
    "This multiplies each number by 10 and prints the result\n",
    "\n",
    "How It Works Step by Step\n",
    "- Python starts at the first item in the list\n",
    "- It stores that item in the temporary variable (num)\n",
    "- It runs the indented code using that value\n",
    "- It moves to the next item and repeats\n",
    "- You can use any name for the temporary variable, but choose something descriptive (e.g., fruit, price, student_name)"
   ]
  },
  {
   "cell_type": "code",
   "execution_count": 8,
   "metadata": {},
   "outputs": [
    {
     "name": "stdout",
     "output_type": "stream",
     "text": [
      "banana\n",
      "cherry\n",
      "apple\n"
     ]
    }
   ],
   "source": [
    "# Loop through list items\n",
    "for fruit in fruits:\n",
    "    print(fruit)"
   ]
  },
  {
   "cell_type": "markdown",
   "metadata": {},
   "source": [
    "### List of Lists (Nested Lists)\n",
    "A list can contain other lists — this is useful for tables, grids, or structured data.\n",
    "``` python\n",
    "matrix = [\n",
    "    [1, 2],\n",
    "    [3, 4],\n",
    "    [5, 6]\n",
    "]\n",
    "```\n",
    "\n",
    "You can access individual values using two sets of square brackets:\n",
    "``` python\n",
    "print(matrix[1][0])  # Outputs 3 (row 2, column 1)\n",
    "```\n",
    "\n",
    "Why Use Nested Lists?\n",
    "- To represent rows and columns (like Excel)\n",
    "- To organise grouped data (e.g. students and their test scores)\n",
    "- To create structures like game boards or maps"
   ]
  },
  {
   "cell_type": "code",
   "execution_count": null,
   "metadata": {},
   "outputs": [
    {
     "name": "stdout",
     "output_type": "stream",
     "text": [
      "2\n"
     ]
    }
   ],
   "source": [
    "matrix = [[1, 2], [3, 4]]\n",
    "print(matrix[0][1])"
   ]
  },
  {
   "cell_type": "markdown",
   "metadata": {},
   "source": [
    "### Common Mistakes\n",
    "- Using the wrong index (remember: counting starts at 0!)\n",
    "- Trying to access an item that doesn’t exist (e.g., index too high)\n",
    "- Using = instead of .append() to add items"
   ]
  }
 ],
 "metadata": {
  "kernelspec": {
   "display_name": "Python 3",
   "language": "python",
   "name": "python3"
  },
  "language_info": {
   "codemirror_mode": {
    "name": "ipython",
    "version": 3
   },
   "file_extension": ".py",
   "mimetype": "text/x-python",
   "name": "python",
   "nbconvert_exporter": "python",
   "pygments_lexer": "ipython3",
   "version": "3.12.1"
  }
 },
 "nbformat": 4,
 "nbformat_minor": 4
}
