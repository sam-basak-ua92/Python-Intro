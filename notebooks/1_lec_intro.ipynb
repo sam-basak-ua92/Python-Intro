{
 "cells": [
  {
   "cell_type": "code",
   "execution_count": 1,
   "metadata": {},
   "outputs": [
    {
     "name": "stdout",
     "output_type": "stream",
     "text": [
      "Hello, World!\n"
     ]
    }
   ],
   "source": [
    "# --- 1. Hello, World ---\n",
    "# The most basic command to print text to the screen.\n",
    "print(\"Hello, World!\")"
   ]
  },
  {
   "cell_type": "code",
   "execution_count": 2,
   "metadata": {},
   "outputs": [],
   "source": [
    "# --- 2. Variables and Data Types ---\n",
    "# Variables store data. Python is dynamically typed, so you don't need to declare the type.\n",
    "name = \"Alice\"        # string\n",
    "age = 30              # integer\n",
    "height = 1.65         # float\n",
    "is_student = True     # boolean"
   ]
  },
  {
   "cell_type": "code",
   "execution_count": 3,
   "metadata": {},
   "outputs": [
    {
     "name": "stdout",
     "output_type": "stream",
     "text": [
      "Alice\n",
      "30\n",
      "1.65\n",
      "True\n"
     ]
    }
   ],
   "source": [
    "# Print out the variables\n",
    "print(name)\n",
    "print(age)\n",
    "print(height)\n",
    "print(is_student)"
   ]
  },
  {
   "cell_type": "code",
   "execution_count": 4,
   "metadata": {},
   "outputs": [
    {
     "name": "stdout",
     "output_type": "stream",
     "text": [
      "Name: Alice (type: <class 'str'>)\n",
      "Age: 30 (type: <class 'int'>)\n",
      "Height: 1.65 (type: <class 'float'>)\n",
      "Is student: True (type: <class 'bool'>)\n"
     ]
    }
   ],
   "source": [
    "# Print out the variables with type info\n",
    "print(f\"Name: {name} (type: {type(name)})\")\n",
    "print(f\"Age: {age} (type: {type(age)})\")\n",
    "print(f\"Height: {height} (type: {type(height)})\")\n",
    "print(f\"Is student: {is_student} (type: {type(is_student)})\")\n"
   ]
  },
  {
   "cell_type": "code",
   "execution_count": 5,
   "metadata": {},
   "outputs": [
    {
     "name": "stdout",
     "output_type": "stream",
     "text": [
      "apple\n",
      "banana\n",
      "cherry\n"
     ]
    }
   ],
   "source": [
    "# --- 3. Lists and Loops ---\n",
    "# Lists store multiple items in one variable\n",
    "fruits = [\"apple\", \"banana\", \"cherry\"]\n",
    "\n",
    "# Loop through list items\n",
    "for fruit in fruits:\n",
    "    print(fruit)"
   ]
  },
  {
   "cell_type": "code",
   "execution_count": 6,
   "metadata": {},
   "outputs": [
    {
     "name": "stdout",
     "output_type": "stream",
     "text": [
      "Grade: C\n"
     ]
    }
   ],
   "source": [
    "# --- 5. If/Else Statements ---\n",
    "# Conditional logic to control code flow\n",
    "score = 75\n",
    "\n",
    "if score >= 90:\n",
    "    print(\"Grade: A\")\n",
    "elif score >= 80:\n",
    "    print(\"Grade: B\")\n",
    "elif score >= 70:\n",
    "    print(\"Grade: C\")\n",
    "else:\n",
    "    print(\"Grade: Needs improvement\")"
   ]
  },
  {
   "cell_type": "code",
   "execution_count": null,
   "metadata": {},
   "outputs": [],
   "source": []
  }
 ],
 "metadata": {
  "kernelspec": {
   "display_name": "Python 3",
   "language": "python",
   "name": "python3"
  },
  "language_info": {
   "codemirror_mode": {
    "name": "ipython",
    "version": 3
   },
   "file_extension": ".py",
   "mimetype": "text/x-python",
   "name": "python",
   "nbconvert_exporter": "python",
   "pygments_lexer": "ipython3",
   "version": "3.12.1"
  }
 },
 "nbformat": 4,
 "nbformat_minor": 4
}
