{
 "cells": [
  {
   "cell_type": "markdown",
   "id": "05b474fb",
   "metadata": {},
   "source": [
    "# Python Intro Challenges"
   ]
  },
  {
   "cell_type": "markdown",
   "id": "a09d1f1e",
   "metadata": {},
   "source": [
    "### Task 1:\n",
    "Create a variable called name and assign it your own name. Then use print() to display the message \"Hello < your name >\""
   ]
  },
  {
   "cell_type": "code",
   "execution_count": null,
   "id": "06edd826",
   "metadata": {},
   "outputs": [],
   "source": []
  },
  {
   "cell_type": "markdown",
   "id": "7b39384b",
   "metadata": {},
   "source": [
    "### Task 2:\n",
    "\n",
    "Create and print the following variables:\n",
    "\n",
    "animal_name → a string\n",
    "\n",
    "number_of_legs → an integer\n",
    "\n",
    "height_metres → a float\n",
    "\n",
    "is_mammal → a boolean\n",
    "\n",
    "Then, print a sentence like:\n",
    "\n",
    "The elephant has 4 legs, is 3.2 metres tall and it's True that it is a mammal."
   ]
  },
  {
   "cell_type": "code",
   "execution_count": null,
   "id": "6567ea71",
   "metadata": {},
   "outputs": [],
   "source": []
  },
  {
   "cell_type": "markdown",
   "id": "1628e772",
   "metadata": {},
   "source": [
    "### Task 3:\n",
    "Create a variable called score and assign it a number between 0 and 100.\n",
    "Write an if statement that checks if the score is greater than or equal to 50 and prints “You passed!”."
   ]
  },
  {
   "cell_type": "code",
   "execution_count": null,
   "id": "981e92fd",
   "metadata": {},
   "outputs": [],
   "source": []
  },
  {
   "cell_type": "markdown",
   "id": "5c1933f4",
   "metadata": {},
   "source": [
    "### Task 4:\n",
    "Ask the user for a number (or set one manually).\n",
    "Check if it's even or odd and print the result.\n",
    "\n",
    "Example output: \"7 is odd.\""
   ]
  },
  {
   "cell_type": "code",
   "execution_count": null,
   "id": "112a4066",
   "metadata": {},
   "outputs": [],
   "source": []
  },
  {
   "cell_type": "markdown",
   "id": "2bfe28f1",
   "metadata": {},
   "source": [
    "### Task 5:\n",
    "Create a variable called password and set it to a string of your choice (e.g. \"open123\").\n",
    "Then, write a programme that checks if the user’s input matches the correct password.\n",
    "\n",
    "If the password matches, print:\n",
    "Access granted.\n",
    "Otherwise, print:\n",
    "Access denied.\n",
    "\n",
    "Hint: Look into the == operator in Python"
   ]
  },
  {
   "cell_type": "code",
   "execution_count": null,
   "id": "dec07fae",
   "metadata": {},
   "outputs": [],
   "source": []
  },
  {
   "cell_type": "markdown",
   "id": "1562dc74",
   "metadata": {},
   "source": [
    "### Task 6:\n",
    "Write a programme that checks a student's score and prints the correct grade:\n",
    "\n",
    "90 or above → \"A\"\n",
    "\n",
    "80–89 → \"B\"\n",
    "\n",
    "70–79 → \"C\"\n",
    "\n",
    "Below 70 → \"Needs improvement\"\n",
    "\n"
   ]
  },
  {
   "cell_type": "code",
   "execution_count": null,
   "id": "3de65196",
   "metadata": {},
   "outputs": [],
   "source": []
  },
  {
   "cell_type": "markdown",
   "id": "8bea9f92",
   "metadata": {},
   "source": [
    "### Task 7:\n",
    "Create a list called shopping_list with at least 5 items.\n",
    "Print the whole list, then print just the first and last item.\n",
    "\n"
   ]
  },
  {
   "cell_type": "code",
   "execution_count": null,
   "id": "d507120d",
   "metadata": {},
   "outputs": [],
   "source": []
  },
  {
   "cell_type": "markdown",
   "id": "dc3524bb",
   "metadata": {},
   "source": [
    "### Task 8:\n",
    "Use your list from Challenge 6:\n",
    "\n",
    "Change one item\n",
    "\n",
    "Add a new item to the end\n",
    "\n",
    "Remove an item\n",
    "\n",
    "Print the updated list each time."
   ]
  },
  {
   "cell_type": "code",
   "execution_count": null,
   "id": "04ee3ac6",
   "metadata": {},
   "outputs": [],
   "source": []
  },
  {
   "cell_type": "markdown",
   "id": "10d40c97",
   "metadata": {},
   "source": [
    "### Task 9:\n",
    "Create a list of 5 numbers.\n",
    "Write a loop that:\n",
    "\n",
    "Prints each number\n",
    "\n",
    "Prints double the value of each number"
   ]
  },
  {
   "cell_type": "code",
   "execution_count": null,
   "id": "cd4a615a",
   "metadata": {},
   "outputs": [],
   "source": []
  },
  {
   "cell_type": "markdown",
   "id": "056274b9",
   "metadata": {},
   "source": [
    "### Task 10:\n",
    "Create a list of 4 lowercase names.\n",
    "Loop through the list and print each name in uppercase."
   ]
  },
  {
   "cell_type": "code",
   "execution_count": null,
   "id": "9d8345ca",
   "metadata": {},
   "outputs": [],
   "source": []
  },
  {
   "cell_type": "markdown",
   "id": "84f0272c",
   "metadata": {},
   "source": [
    "### Task 11:\n",
    "Create a list of numbers.\n",
    "Use a loop to calculate and print the total sum of all the numbers.\n",
    "\n",
    "Hint: Use a variable like total = 0 and add to it in the loop."
   ]
  },
  {
   "cell_type": "code",
   "execution_count": null,
   "id": "09c48118",
   "metadata": {},
   "outputs": [],
   "source": []
  },
  {
   "cell_type": "markdown",
   "id": "9ef66aba",
   "metadata": {},
   "source": [
    "### Task 12:\n",
    "Create a list of numbers from 1 to 10.\n",
    "Loop through the list and:\n",
    "\n",
    "Print \"Even\" if the number is even\n",
    "\n",
    "Print \"Odd\" if the number is odd\n",
    "\n"
   ]
  },
  {
   "cell_type": "code",
   "execution_count": null,
   "id": "01edbea6",
   "metadata": {},
   "outputs": [],
   "source": []
  }
 ],
 "metadata": {
  "language_info": {
   "name": "python"
  }
 },
 "nbformat": 4,
 "nbformat_minor": 5
}
