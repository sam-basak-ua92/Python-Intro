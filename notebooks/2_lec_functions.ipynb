{
 "cells": [
  {
   "cell_type": "code",
   "execution_count": null,
   "id": "026619dc",
   "metadata": {},
   "outputs": [],
   "source": [
    "# --- 5. Functions ---\n",
    "# Functions group code so it can be reused\n",
    "\n",
    "def greet(name):\n",
    "    return f\"Hello, {name}!\"\n",
    "\n",
    "message = greet(\"Bob\")\n",
    "print(message)"
   ]
  }
 ],
 "metadata": {
  "language_info": {
   "name": "python"
  }
 },
 "nbformat": 4,
 "nbformat_minor": 5
}
