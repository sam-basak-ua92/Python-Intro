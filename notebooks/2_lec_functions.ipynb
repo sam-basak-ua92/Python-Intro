{
 "cells": [
  {
   "cell_type": "markdown",
   "id": "bc8f8cec",
   "metadata": {},
   "source": [
    "# Functions in Python\n",
    "## What is a Function?\n",
    "A function is a named block of code that performs a specific task. You can run it (or “call” it) whenever you need to — without repeating the same code over and over.\n",
    "\n",
    "Think of a function like a recipe. You write it once, and then follow it as many times as needed. This makes your code shorter, neater, and easier to manage.\n",
    "\n",
    "## Why Use Functions?\n",
    "- Avoid repetition – Write code once, use it anywhere\n",
    "- Organise logic – Break your programme into smaller, understandable parts\n",
    "- Make testing easier – You can test each function separately\n",
    "- Reuse code – Once written, functions can be used again and again, even in other projects\n",
    "\n",
    "## Basic Syntax of a Function\n",
    "``` python\n",
    "def function_name(parameters):\n",
    "    # Code block (indented)\n",
    "    return result  # Optional\n",
    "```\n",
    "- def — tells Python you're defining a function\n",
    "- function_name — give your function a clear, lowercase name (underscores for spaces)\n",
    "- parameters — optional inputs the function can use\n",
    "- return — optional output; sends a value back to the part of your programme that called it"
   ]
  },
  {
   "cell_type": "code",
   "execution_count": 1,
   "id": "508326d8",
   "metadata": {},
   "outputs": [
    {
     "name": "stdout",
     "output_type": "stream",
     "text": [
      "Hello there!\n"
     ]
    }
   ],
   "source": [
    "# Example 1: A Simple Function\n",
    "def say_hello():\n",
    "    print(\"Hello there!\")\n",
    "\n",
    "# To use it, just call it by name:\n",
    "say_hello()\n",
    "\n",
    "# This prints \"Hello there!\" to the screen."
   ]
  },
  {
   "cell_type": "markdown",
   "id": "e2bc9e85",
   "metadata": {},
   "source": [
    "All this function can do is print ```Hello there!``` to make them more useful we need to use parameters.\n",
    "\n",
    "## Parameters?\n",
    "Parameters are placeholders for information that you can give to a function when you call it. They let you design your function to be flexible and reusable, rather than hard-coded.\n",
    "\n",
    "Think of parameters like blanks in a sentence that you fill in each time you use the function.\n",
    "\n",
    "Defining Parameters\n",
    "You define parameters in the function header:\n",
    "``` python\n",
    "def greet(name):\n",
    "    print(f\"Hello, {name}!\")\n",
    "```\n",
    "\n",
    "In this example:\n",
    "- name is the parameter\n",
    "- It’s a temporary variable that receives a value when the function is called\n",
    "\n",
    "Providing Arguments\n",
    "When you call the function, you provide a value, called an argument, for each parameter:\n",
    "``` python\n",
    "greet(\"Ella\")  # Outputs: Hello, Ella!\n",
    "```\n",
    "Each time the function runs, the parameter name temporarily holds the value \"Ella\"\n",
    "\n",
    "IMPORTANT\n",
    "Parameters are used when defining a function; arguments are what you provide when calling it.\n",
    "\n"
   ]
  },
  {
   "cell_type": "code",
   "execution_count": 5,
   "id": "000ca84c",
   "metadata": {},
   "outputs": [
    {
     "name": "stdout",
     "output_type": "stream",
     "text": [
      "Hello, Ella!\n"
     ]
    }
   ],
   "source": [
    "def greet(name):\n",
    "    print(f\"Hello, {name}!\")\n",
    "\n",
    "greet(\"Ella\")"
   ]
  },
  {
   "cell_type": "markdown",
   "id": "c0bb7f0e",
   "metadata": {},
   "source": [
    "### You Can Have Multiple Parameters\n",
    "Functions can take more than one parameter — just separate them with commas:\n",
    "\n",
    "``` python\n",
    "def add(a, b):\n",
    "    print(a + b)\n",
    "```\n",
    "\n",
    "Now you call it with two arguments:\n",
    "``` python\n",
    "add(3, 7)  # Outputs: 10\n",
    "```\n",
    "\n",
    "You can mix data types too:\n",
    "``` python\n",
    "def describe_pet(name, animal_type):\n",
    "    print(f\"{name} is a lovely {animal_type}.\")\n",
    "\n",
    "describe_pet(\"Luna\", \"cat\")  # Outputs: Luna is a lovely cat.\n",
    "```"
   ]
  },
  {
   "cell_type": "code",
   "execution_count": 3,
   "id": "0fcf4b2b",
   "metadata": {},
   "outputs": [
    {
     "name": "stdout",
     "output_type": "stream",
     "text": [
      "Luna is a lovely cat.\n"
     ]
    }
   ],
   "source": [
    "def describe_pet(name, animal_type):\n",
    "    print(f\"{name} is a lovely {animal_type}.\")\n",
    "\n",
    "describe_pet(\"Luna\", \"cat\")  # Outputs: Luna is a lovely cat."
   ]
  },
  {
   "cell_type": "markdown",
   "id": "e171d947",
   "metadata": {},
   "source": [
    "### Optional Parameters and Default Values\n",
    "You can provide default values for parameters. If the user doesn’t give that argument, Python will use the default."
   ]
  },
  {
   "cell_type": "code",
   "execution_count": 4,
   "id": "37aec561",
   "metadata": {},
   "outputs": [
    {
     "name": "stdout",
     "output_type": "stream",
     "text": [
      "Hello, there!\n",
      "Hello, Amina!\n"
     ]
    }
   ],
   "source": [
    "def greet(name=\"there\"):\n",
    "    print(f\"Hello, {name}!\")\n",
    "\n",
    "greet()         # Hello, there!\n",
    "greet(\"Amina\")  # Hello, Amina!"
   ]
  },
  {
   "cell_type": "markdown",
   "id": "dc5f06ac",
   "metadata": {},
   "source": [
    "## What is return?\n",
    "While print() shows something on the screen, return sends a value back to wherever the function was called from. This lets you store and reuse the result in other parts of your code.\n",
    "\n",
    "Example: Returning a Value\n",
    "``` python\n",
    "def square(number):\n",
    "    return number * number\n",
    "```\n",
    "You can store the result in a variable:\n",
    "``` python\n",
    "result = square(5)\n",
    "print(result)  # Outputs: 25\n",
    "```\n",
    "This is more powerful than print() inside the function, because the value isn’t just shown — it’s available for use later.\n",
    "\n"
   ]
  },
  {
   "cell_type": "code",
   "execution_count": 7,
   "id": "95b7ba0d",
   "metadata": {},
   "outputs": [
    {
     "name": "stdout",
     "output_type": "stream",
     "text": [
      "25\n"
     ]
    }
   ],
   "source": [
    "def square(number):\n",
    "    return number * number\n",
    "\n",
    "result = square(5)\n",
    "print(result)  # Outputs: 25"
   ]
  },
  {
   "cell_type": "markdown",
   "id": "d6ea61d3",
   "metadata": {},
   "source": [
    "### The Difference Between print() and return\n",
    "\n",
    "| Feature    | ```print()``` | ```return()``` |\n",
    "| -------- | ------- | ------- |\n",
    "| Purpose  | Displays a message to the screen    | Sends a value back to the calling code    |\n",
    "| Temporary use | Yes – doesn’t save or store anything     | No – the result can be stored and reused    |\n",
    "| Used for    | Debugging or user messages    | Calculations and logic results    |\n",
    "| Happens when?    | Immediately when the function runs    | Only when the function finishes and hits ```return```    |"
   ]
  },
  {
   "cell_type": "code",
   "execution_count": 8,
   "id": "e9bbae84",
   "metadata": {},
   "outputs": [
    {
     "name": "stdout",
     "output_type": "stream",
     "text": [
      "8\n",
      "8\n"
     ]
    }
   ],
   "source": [
    "def double(x):\n",
    "    print(x * 2)   # Just displays the result\n",
    "\n",
    "def double_return(x):\n",
    "    return x * 2   # Gives you the result to work with\n",
    "\n",
    "double(4)  # prints 8, but gives nothing back\n",
    "value = double_return(4)\n",
    "print(value)  # prints 8, and stores it in `value`\n"
   ]
  },
  {
   "cell_type": "markdown",
   "id": "6ad68620",
   "metadata": {},
   "source": [
    "### Best Practice\n",
    "- Use print() when you want to display something to the user\n",
    "- Use return when you want to use the result in further calculations or store it\n",
    "\n",
    "### Summary\n",
    "- Parameters are variables used in function definitions\n",
    "- Arguments are the values you give to those variables when you call the function\n",
    "- return gives data back to the programme — not just to the screen\n",
    "- print() is for output and debugging — it’s temporary and for display only"
   ]
  }
 ],
 "metadata": {
  "kernelspec": {
   "display_name": "Python 3",
   "language": "python",
   "name": "python3"
  },
  "language_info": {
   "codemirror_mode": {
    "name": "ipython",
    "version": 3
   },
   "file_extension": ".py",
   "mimetype": "text/x-python",
   "name": "python",
   "nbconvert_exporter": "python",
   "pygments_lexer": "ipython3",
   "version": "3.12.1"
  }
 },
 "nbformat": 4,
 "nbformat_minor": 5
}
