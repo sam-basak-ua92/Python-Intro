{
 "cells": [
  {
   "cell_type": "markdown",
   "id": "dfc26d5d",
   "metadata": {},
   "source": [
    "# Function Challenges"
   ]
  },
  {
   "cell_type": "markdown",
   "id": "1f842145",
   "metadata": {},
   "source": [
    "### Task 1. Say Hello\n",
    "Create a function called say_hello() that prints \"Hello!\" when called."
   ]
  },
  {
   "cell_type": "code",
   "execution_count": null,
   "id": "89675f61",
   "metadata": {},
   "outputs": [],
   "source": []
  },
  {
   "cell_type": "markdown",
   "id": "5132c0e7",
   "metadata": {},
   "source": [
    "### Task 2. Print Today's Mood\n",
    "Write a function called daily_mood() that prints a message like:\n",
    "\"Today I'm feeling productive!\""
   ]
  },
  {
   "cell_type": "code",
   "execution_count": null,
   "id": "123c7385",
   "metadata": {},
   "outputs": [],
   "source": []
  },
  {
   "cell_type": "markdown",
   "id": "9003a962",
   "metadata": {},
   "source": [
    "### Task 3. Motivation Time\n",
    "Write a function motivate() that prints a random motivational message from a list (use print() with hardcoded strings for now)."
   ]
  },
  {
   "cell_type": "code",
   "execution_count": null,
   "id": "efad7494",
   "metadata": {},
   "outputs": [],
   "source": []
  },
  {
   "cell_type": "markdown",
   "id": "2ebf6297",
   "metadata": {},
   "source": [
    "### Task 4. Simple Loop Printer\n",
    "Create a function count_to_five() that prints the numbers 1 to 5 using a for loop."
   ]
  },
  {
   "cell_type": "code",
   "execution_count": null,
   "id": "893b6211",
   "metadata": {},
   "outputs": [],
   "source": []
  },
  {
   "cell_type": "markdown",
   "id": "288fa484",
   "metadata": {},
   "source": [
    "###  Task 5. Greet Three Times\n",
    "Write a function triple_greet() that prints \"Good morning!\" three times."
   ]
  },
  {
   "cell_type": "code",
   "execution_count": null,
   "id": "f1ccc329",
   "metadata": {},
   "outputs": [],
   "source": []
  },
  {
   "cell_type": "markdown",
   "id": "29254a10",
   "metadata": {},
   "source": [
    "### Task 6. Personal Greeting\n",
    "Create a function greet(name) that prints:\n",
    "\"Hello, < name >!\""
   ]
  },
  {
   "cell_type": "code",
   "execution_count": null,
   "id": "0c253286",
   "metadata": {},
   "outputs": [],
   "source": []
  },
  {
   "cell_type": "markdown",
   "id": "dbc200b1",
   "metadata": {},
   "source": [
    "### Task 7. Square It\n",
    "Create a function square(number) that prints the square of the given number."
   ]
  },
  {
   "cell_type": "code",
   "execution_count": null,
   "id": "c3384425",
   "metadata": {},
   "outputs": [],
   "source": []
  },
  {
   "cell_type": "markdown",
   "id": "0a0d2b11",
   "metadata": {},
   "source": [
    "### Task 8. Compare Two Numbers\n",
    "Write a function larger_number(a, b) that prints which number is bigger.\n",
    "\n"
   ]
  },
  {
   "cell_type": "code",
   "execution_count": null,
   "id": "b704ca4b",
   "metadata": {},
   "outputs": [],
   "source": []
  },
  {
   "cell_type": "markdown",
   "id": "d886de88",
   "metadata": {},
   "source": [
    "### Task 9. Repeat Word\n",
    "Write a function repeat_word(word, times) that prints the word repeatedly on one line.\n",
    "\n",
    "e.g. repeat_word(\"hi\", 3) → hihihi"
   ]
  },
  {
   "cell_type": "code",
   "execution_count": null,
   "id": "fbec7e83",
   "metadata": {},
   "outputs": [],
   "source": []
  },
  {
   "cell_type": "markdown",
   "id": "5279e1ce",
   "metadata": {},
   "source": [
    "### Task 10. Check Age\n",
    "Write a function check_age(age) that prints:\n",
    "\n",
    "\"You are a minor.\" if under 18\n",
    "\n",
    "\"You are an adult.\" if 18 or older"
   ]
  },
  {
   "cell_type": "code",
   "execution_count": null,
   "id": "a63170db",
   "metadata": {},
   "outputs": [],
   "source": []
  },
  {
   "cell_type": "markdown",
   "id": "c02c8028",
   "metadata": {},
   "source": [
    "### Task 11. Greet With Default\n",
    "Create a function greet_person(name=\"friend\") that prints a greeting using the name provided (or \"friend\" if none is given)."
   ]
  },
  {
   "cell_type": "code",
   "execution_count": null,
   "id": "f46b9a7d",
   "metadata": {},
   "outputs": [],
   "source": []
  },
  {
   "cell_type": "markdown",
   "id": "51262265",
   "metadata": {},
   "source": [
    "### Task 12. Custom Countdown\n",
    "Write a function countdown(start=5) that prints numbers counting down from start to 1.\n",
    "\n"
   ]
  },
  {
   "cell_type": "code",
   "execution_count": null,
   "id": "288b7866",
   "metadata": {},
   "outputs": [],
   "source": []
  },
  {
   "cell_type": "markdown",
   "id": "4cdcf061",
   "metadata": {},
   "source": [
    "### Task 13. Weather Report\n",
    "Create a function weather_report(temp=20) that prints:\n",
    "\n",
    "\"It’s warm\" if temp > 20\n",
    "\n",
    "\"It’s cold\" if temp < 10\n",
    "\n",
    "\"It’s mild\" otherwise"
   ]
  },
  {
   "cell_type": "code",
   "execution_count": null,
   "id": "5293409b",
   "metadata": {},
   "outputs": [],
   "source": []
  },
  {
   "cell_type": "markdown",
   "id": "f2e5935d",
   "metadata": {},
   "source": [
    "### Task 14. Simple Repetition\n",
    "Write a function repeat_message(message, times=2) that prints the message the number of times specified.\n",
    "\n"
   ]
  },
  {
   "cell_type": "code",
   "execution_count": null,
   "id": "1249b5ee",
   "metadata": {},
   "outputs": [],
   "source": []
  },
  {
   "cell_type": "markdown",
   "id": "ab3efefc",
   "metadata": {},
   "source": [
    "### Task 15. Guess the Colour\n",
    "Write a function check_colour(colour=\"blue\") that prints \"Correct!\" if the guess is \"blue\", otherwise \"Try again.\""
   ]
  },
  {
   "cell_type": "code",
   "execution_count": null,
   "id": "6f4baf6c",
   "metadata": {},
   "outputs": [],
   "source": []
  },
  {
   "cell_type": "markdown",
   "id": "8b83f89a",
   "metadata": {},
   "source": [
    "### Task 16. Return Square\n",
    "Create a function get_square(n) that returns the square of n.\n",
    "\n"
   ]
  },
  {
   "cell_type": "code",
   "execution_count": null,
   "id": "57cd2784",
   "metadata": {},
   "outputs": [],
   "source": []
  },
  {
   "cell_type": "markdown",
   "id": "61071d7f",
   "metadata": {},
   "source": [
    "### Task 17. Multiply Numbers\n",
    "Write a function multiply(a, b) that returns the product of two numbers.\n",
    "\n"
   ]
  },
  {
   "cell_type": "code",
   "execution_count": null,
   "id": "0925bec8",
   "metadata": {},
   "outputs": [],
   "source": []
  },
  {
   "cell_type": "markdown",
   "id": "75aab41d",
   "metadata": {},
   "source": [
    "### Task 18. Shout It\n",
    "Write a function shout(text) that returns the text in all uppercase with an exclamation mark."
   ]
  },
  {
   "cell_type": "code",
   "execution_count": null,
   "id": "0e5b88b9",
   "metadata": {},
   "outputs": [],
   "source": []
  },
  {
   "cell_type": "markdown",
   "id": "f445baa6",
   "metadata": {},
   "source": [
    "### Task 19. Remainder Finder\n",
    "Write a function get_remainder(a, b) that returns the remainder when a is divided by b."
   ]
  },
  {
   "cell_type": "code",
   "execution_count": null,
   "id": "c516e9c4",
   "metadata": {},
   "outputs": [],
   "source": []
  },
  {
   "cell_type": "markdown",
   "id": "710558a5",
   "metadata": {},
   "source": [
    "### Task 20. Word Length\n",
    "Write a function word_length(word) that returns how many characters are in the word."
   ]
  },
  {
   "cell_type": "code",
   "execution_count": null,
   "id": "dd8cbe19",
   "metadata": {},
   "outputs": [],
   "source": []
  },
  {
   "cell_type": "markdown",
   "id": "7413bac7",
   "metadata": {},
   "source": [
    "### Task 21. First and Last\n",
    "Write a function first_and_last(items) that returns a new list containing just the first and last items."
   ]
  },
  {
   "cell_type": "code",
   "execution_count": null,
   "id": "0ee4a3e7",
   "metadata": {},
   "outputs": [],
   "source": []
  },
  {
   "cell_type": "markdown",
   "id": "947332d0",
   "metadata": {},
   "source": [
    "### Task 22. Total Up\n",
    "Write a function total(numbers) that returns the sum of all the numbers in a list.\n"
   ]
  },
  {
   "cell_type": "code",
   "execution_count": null,
   "id": "d0177081",
   "metadata": {},
   "outputs": [],
   "source": []
  },
  {
   "cell_type": "markdown",
   "id": "d5adce1f",
   "metadata": {},
   "source": [
    "### Task 23. Average Score\n",
    "Write a function average(scores) that returns the average (mean) of a list of numbers."
   ]
  },
  {
   "cell_type": "code",
   "execution_count": null,
   "id": "cb02473f",
   "metadata": {},
   "outputs": [],
   "source": []
  },
  {
   "cell_type": "markdown",
   "id": "01793832",
   "metadata": {},
   "source": [
    "### Task 24. Contains Letter\n",
    "Write a function contains_letter(word, letter) that returns True if the letter is in the word."
   ]
  },
  {
   "cell_type": "code",
   "execution_count": null,
   "id": "5fe8e0a0",
   "metadata": {},
   "outputs": [],
   "source": []
  },
  {
   "cell_type": "markdown",
   "id": "102a8632",
   "metadata": {},
   "source": [
    "### Task 25. Grade Calculator\n",
    "Write a function get_grade(score) that returns:\n",
    "\n",
    "\"A\" for 90 and above\n",
    "\n",
    "\"B\" for 80–89\n",
    "\n",
    "\"C\" for 70–79\n",
    "\n",
    "\"Needs Improvement\" for anything below 70"
   ]
  },
  {
   "cell_type": "code",
   "execution_count": null,
   "id": "66354959",
   "metadata": {},
   "outputs": [],
   "source": []
  },
  {
   "cell_type": "markdown",
   "id": "7f80027c",
   "metadata": {},
   "source": [
    "### Task 26. Palindrome Checker\n",
    "Write a function palindrome_checker(string) that returns:\n",
    "\n",
    "__True__ if the string is a palindrome\n",
    "\n",
    "__False__ if the string isn't a palindrome"
   ]
  },
  {
   "cell_type": "code",
   "execution_count": null,
   "id": "681db3d3",
   "metadata": {},
   "outputs": [],
   "source": []
  },
  {
   "cell_type": "markdown",
   "id": "1311111f",
   "metadata": {},
   "source": [
    "### Task 27. Palindrome Anagram Checker\n",
    "Write a function palindrome_anagram_checker(string) that returns:\n",
    "\n",
    "__True__ if the string is an anagram of a palindrome\n",
    "\n",
    "__False__ if the string isn't an anagram of a palindrome"
   ]
  },
  {
   "cell_type": "code",
   "execution_count": null,
   "id": "dd5c1007",
   "metadata": {},
   "outputs": [],
   "source": []
  }
 ],
 "metadata": {
  "kernelspec": {
   "display_name": "Python 3",
   "language": "python",
   "name": "python3"
  },
  "language_info": {
   "codemirror_mode": {
    "name": "ipython",
    "version": 3
   },
   "file_extension": ".py",
   "mimetype": "text/x-python",
   "name": "python",
   "nbconvert_exporter": "python",
   "pygments_lexer": "ipython3",
   "version": "3.12.1"
  }
 },
 "nbformat": 4,
 "nbformat_minor": 5
}
