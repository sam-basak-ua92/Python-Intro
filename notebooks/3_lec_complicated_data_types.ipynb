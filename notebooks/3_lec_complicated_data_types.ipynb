{
 "cells": [
  {
   "cell_type": "markdown",
   "id": "c9859b19",
   "metadata": {},
   "source": [
    "# Dictionaries\n",
    "\n",
    "## What Is a Dictionary?\n",
    "In Python, a dictionary is a data structure that stores key-value pairs. It's useful for storing data where each item has a unique label (or “key”) that maps to a specific value."
   ]
  },
  {
   "cell_type": "code",
   "execution_count": 23,
   "id": "cf07e871",
   "metadata": {},
   "outputs": [],
   "source": [
    "# Example of a simple dictionary\n",
    "student = {\n",
    "    \"name\": \"Alice\",\n",
    "    \"age\": 21,\n",
    "    \"course\": \"Data Analytics\"\n",
    "}"
   ]
  },
  {
   "cell_type": "markdown",
   "id": "d808fd80",
   "metadata": {},
   "source": [
    "- \"name\", \"age\", and \"course\" are keys\n",
    "\n",
    "- \"Alice\", 21, and \"Data Analytics\" are the values\n",
    "\n",
    "- You access values using the keys, like student[\"name\"]\n",
    "\n",
    "## Mutability: Can Dictionaries Change?\n",
    "Yes! Dictionaries in Python are mutable, which means you can add, remove, or change their contents after they're created."
   ]
  },
  {
   "cell_type": "code",
   "execution_count": 24,
   "id": "b6bc43f6",
   "metadata": {},
   "outputs": [],
   "source": [
    "student[\"age\"] = 22  # Updating a value\n",
    "student[\"grade\"] = \"A\"  # Adding a new key-value pair"
   ]
  },
  {
   "cell_type": "markdown",
   "id": "6df341a1",
   "metadata": {},
   "source": [
    "You can:\n",
    "- Change existing values\n",
    "- Add new key-value pairs\n",
    "- Delete pairs\n",
    "\n",
    "## Adding to a Dictionary\n",
    "You add a new entry simply by assigning a value to a new key."
   ]
  },
  {
   "cell_type": "code",
   "execution_count": 25,
   "id": "6ba4bf69",
   "metadata": {},
   "outputs": [],
   "source": [
    "student[\"email\"] = \"alice@example.com\""
   ]
  },
  {
   "cell_type": "markdown",
   "id": "31d35ae3",
   "metadata": {},
   "source": [
    "If the key already exists, the value will be updated.\n",
    "\n",
    "## Removing from a Dictionary\n",
    "There are a few ways to remove items from dictionaries:"
   ]
  },
  {
   "cell_type": "code",
   "execution_count": null,
   "id": "1f3787b0",
   "metadata": {},
   "outputs": [
    {
     "name": "stdout",
     "output_type": "stream",
     "text": [
      "{'name': 'Alice', 'age': 22, 'course': 'Data Analytics', 'grade': 'A', 'email': 'alice@example.com'}\n",
      "{'name': 'Alice', 'age': 22, 'course': 'Data Analytics', 'grade': 'A'}\n",
      "{'name': 'Alice', 'age': 22, 'course': 'Data Analytics'}\n"
     ]
    }
   ],
   "source": [
    "# Remove a specific item\n",
    "student.pop(\"email\")  \n",
    "\n",
    "# Remove the last inserted item (Python 3.7+)\n",
    "student.popitem()  \n",
    "\n",
    "# Remove an item using 'del'\n",
    "del student[\"course\"]"
   ]
  },
  {
   "cell_type": "markdown",
   "id": "7302ad3e",
   "metadata": {},
   "source": [
    "If you try to remove a key that doesn’t exist, Python will raise a KeyError.\n",
    "\n",
    "## Accessing Values\n",
    "You can access any value using its key:"
   ]
  },
  {
   "cell_type": "code",
   "execution_count": 27,
   "id": "c1e47184",
   "metadata": {},
   "outputs": [
    {
     "name": "stdout",
     "output_type": "stream",
     "text": [
      "Alice\n"
     ]
    }
   ],
   "source": [
    "print(student[\"name\"])  # Outputs: Alice"
   ]
  },
  {
   "cell_type": "markdown",
   "id": "c13475a6",
   "metadata": {},
   "source": [
    "Or safely, using ```.get()``` which returns ```None``` if the key doesn't exist:"
   ]
  },
  {
   "cell_type": "code",
   "execution_count": 28,
   "id": "ca7e5a81",
   "metadata": {},
   "outputs": [
    {
     "name": "stdout",
     "output_type": "stream",
     "text": [
      "22\n",
      "None\n"
     ]
    }
   ],
   "source": [
    "print(student.get(\"age\"))         # Outputs: 22\n",
    "print(student.get(\"address\"))     # Outputs: None"
   ]
  },
  {
   "cell_type": "markdown",
   "id": "e020bc2c",
   "metadata": {},
   "source": [
    "## Looping Through a Dictionary\n",
    "You can iterate through:\n",
    "- The keys\n",
    "- The values\n",
    "- Both keys and values"
   ]
  },
  {
   "cell_type": "code",
   "execution_count": 29,
   "id": "2cec4bd5",
   "metadata": {},
   "outputs": [
    {
     "name": "stdout",
     "output_type": "stream",
     "text": [
      "name\n",
      "age\n",
      "Alice\n",
      "22\n",
      "name: Alice\n",
      "age: 22\n"
     ]
    }
   ],
   "source": [
    "# Loop through keys\n",
    "for key in student:\n",
    "    print(key)\n",
    "\n",
    "# Loop through values\n",
    "for value in student.values():\n",
    "    print(value)\n",
    "\n",
    "# Loop through both\n",
    "for key, value in student.items():\n",
    "    print(f\"{key}: {value}\")\n"
   ]
  },
  {
   "cell_type": "markdown",
   "id": "3deee270",
   "metadata": {},
   "source": [
    "## Mini Practice\n",
    "Try creating your own dictionary about a book or a film."
   ]
  },
  {
   "cell_type": "code",
   "execution_count": 30,
   "id": "f9618b1a",
   "metadata": {},
   "outputs": [
    {
     "name": "stdout",
     "output_type": "stream",
     "text": [
      "title: 1984\n",
      "author: George Orwell\n",
      "published: 1950\n",
      "genre: Dystopian\n"
     ]
    }
   ],
   "source": [
    "book = {\n",
    "    \"title\": \"1984\",\n",
    "    \"author\": \"George Orwell\",\n",
    "    \"published\": 1949\n",
    "}\n",
    "\n",
    "# Add genre\n",
    "book[\"genre\"] = \"Dystopian\"\n",
    "\n",
    "# Update publication year\n",
    "book[\"published\"] = 1950\n",
    "\n",
    "# Print everything\n",
    "for k, v in book.items():\n",
    "    print(f\"{k}: {v}\")\n"
   ]
  },
  {
   "cell_type": "markdown",
   "id": "f03f111c",
   "metadata": {},
   "source": [
    "## Summary\n",
    "- Dictionaries store key-value pairs\n",
    "- They are mutable\n",
    "- You can add, update, or delete items\n",
    "- Use loops to inspect the contents\n",
    "- Use ```.get()``` when you're not sure a key exists"
   ]
  },
  {
   "cell_type": "markdown",
   "id": "def1c2ed",
   "metadata": {},
   "source": []
  }
 ],
 "metadata": {
  "kernelspec": {
   "display_name": "Python 3",
   "language": "python",
   "name": "python3"
  },
  "language_info": {
   "codemirror_mode": {
    "name": "ipython",
    "version": 3
   },
   "file_extension": ".py",
   "mimetype": "text/x-python",
   "name": "python",
   "nbconvert_exporter": "python",
   "pygments_lexer": "ipython3",
   "version": "3.12.1"
  }
 },
 "nbformat": 4,
 "nbformat_minor": 5
}
