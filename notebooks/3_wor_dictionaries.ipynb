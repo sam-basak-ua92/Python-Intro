{
 "cells": [
  {
   "cell_type": "markdown",
   "id": "c9859b19",
   "metadata": {},
   "source": [
    "# Dictionaries in Python Workshop"
   ]
  },
  {
   "cell_type": "markdown",
   "id": "b1e25855",
   "metadata": {},
   "source": [
    "### 1. Contact Book\n",
    "Create a dictionary named contacts with two entries: ``` \"Alice\": \"1234\" and \"Bob\": \"5678\".```\n",
    "\n",
    "Task:\n",
    "\n",
    "- Add a contact named \"Charlie\" with number \"9012\".\n",
    "\n",
    "- Update Bob’s number to \"0000\".\n",
    "\n",
    "- Delete Alice from the dictionary.\n",
    "\n",
    "- Print the final dictionary."
   ]
  },
  {
   "cell_type": "code",
   "execution_count": null,
   "id": "c511ef96",
   "metadata": {},
   "outputs": [],
   "source": []
  },
  {
   "cell_type": "markdown",
   "id": "2869ea3d",
   "metadata": {},
   "source": [
    "### 2. Word Frequency Counter\n",
    "Given the list ```[\"apple\", \"banana\", \"apple\", \"orange\", \"banana\", \"apple\"]```,\n",
    "\n",
    "Task:\n",
    "\n",
    "- Use a dictionary to count how many times each word appears.\n",
    "\n",
    "- Print the dictionary."
   ]
  },
  {
   "cell_type": "code",
   "execution_count": null,
   "id": "bce704e5",
   "metadata": {},
   "outputs": [],
   "source": []
  },
  {
   "cell_type": "markdown",
   "id": "ef815924",
   "metadata": {},
   "source": [
    "### 3. Student Grades\n",
    "Given a dictionary of student names and their grades:\n",
    "\n",
    "```python\n",
    "grades = {\"Alice\": 85, \"Bob\": 72, \"Charlie\": 90}\n",
    "```\n",
    "Task:\n",
    "\n",
    "- Add a new student \"Diana\" with grade 95.\n",
    "\n",
    "- Increase \"Bob\"’s grade by 5.\n",
    "\n",
    "- Print the average grade of all students."
   ]
  },
  {
   "cell_type": "code",
   "execution_count": null,
   "id": "b2208e00",
   "metadata": {},
   "outputs": [],
   "source": []
  },
  {
   "cell_type": "markdown",
   "id": "57e18e17",
   "metadata": {},
   "source": [
    "### 4. Inventory Management\n",
    "Create an inventory dictionary like this:\n",
    "```python\n",
    "inventory = {\"apples\": 10, \"bananas\": 5, \"oranges\": 8}\n",
    "```\n",
    "Task:\n",
    "\n",
    "- A customer buys 3 apples and 2 bananas.\n",
    "\n",
    "- Update the inventory accordingly.\n",
    "\n",
    "- If an item runs out (0), remove it from the dictionary.\n"
   ]
  },
  {
   "cell_type": "code",
   "execution_count": null,
   "id": "aed2fa84",
   "metadata": {},
   "outputs": [],
   "source": []
  },
  {
   "cell_type": "markdown",
   "id": "cdba9248",
   "metadata": {},
   "source": [
    "### 5. Dictionary Reversal\n",
    "Given this dictionary:\n",
    "```python\n",
    "original = {\"a\": 1, \"b\": 2, \"c\": 3}\n",
    "```\n",
    "\n",
    "Task:\n",
    "\n",
    "- Create a new dictionary where keys and values are swapped:\n",
    "- ``` Result: {1: \"a\", 2: \"b\", 3: \"c\"}```"
   ]
  },
  {
   "cell_type": "code",
   "execution_count": null,
   "id": "9d6b5b89",
   "metadata": {},
   "outputs": [],
   "source": []
  },
  {
   "cell_type": "markdown",
   "id": "0f6b1d88",
   "metadata": {},
   "source": [
    "### 6. Merge Dictionaries\n",
    "Given:\n",
    "\n",
    "``` python\n",
    "a = {\"x\": 1, \"y\": 2}\n",
    "b = {\"y\": 3, \"z\": 4}\n",
    "```\n",
    "\n",
    "Task:\n",
    "\n",
    "- Merge both into a new dictionary where b’s values override a’s.\n",
    "\n",
    "- Output: ```{\"x\": 1, \"y\": 3, \"z\": 4}```"
   ]
  },
  {
   "cell_type": "code",
   "execution_count": null,
   "id": "6b080306",
   "metadata": {},
   "outputs": [],
   "source": []
  },
  {
   "cell_type": "markdown",
   "id": "cde56d62",
   "metadata": {},
   "source": [
    "### 7. Dictionary from Two Lists\n",
    "\n",
    "Given two lists:\n",
    "\n",
    "```python\n",
    "keys = [\"name\", \"age\", \"city\"]\n",
    "values = [\"Alice\", 25, \"New York\"]\n",
    "```\n",
    "\n",
    "Task:\n",
    "\n",
    "- Create a dictionary by pairing items from both lists.\n",
    "\n",
    "- Output: ```{\"name\": \"Alice\", \"age\": 25, \"city\": \"New York\"}```\n",
    "\n"
   ]
  },
  {
   "cell_type": "code",
   "execution_count": null,
   "id": "96acc8af",
   "metadata": {},
   "outputs": [],
   "source": []
  },
  {
   "cell_type": "markdown",
   "id": "a31e20c9",
   "metadata": {},
   "source": [
    "### 8. Nested Dictionary: School Grades\n",
    "\n",
    "You are given a nested dictionary:\n",
    "\n",
    "``` python\n",
    "students = {\n",
    "    \"Alice\": {\"Math\": 90, \"English\": 85},\n",
    "    \"Bob\": {\"Math\": 75, \"English\": 78},\n",
    "}\n",
    "```\n",
    "\n",
    "Task:\n",
    "\n",
    "- Add a new subject \"Science\" with scores: Alice: 88, Bob: 82.\n",
    "\n",
    "- Calculate and print each student’s average score."
   ]
  },
  {
   "cell_type": "code",
   "execution_count": null,
   "id": "93248389",
   "metadata": {},
   "outputs": [],
   "source": []
  }
 ],
 "metadata": {
  "kernelspec": {
   "display_name": "Python 3",
   "language": "python",
   "name": "python3"
  },
  "language_info": {
   "codemirror_mode": {
    "name": "ipython",
    "version": 3
   },
   "file_extension": ".py",
   "mimetype": "text/x-python",
   "name": "python",
   "nbconvert_exporter": "python",
   "pygments_lexer": "ipython3",
   "version": "3.12.1"
  }
 },
 "nbformat": 4,
 "nbformat_minor": 5
}
